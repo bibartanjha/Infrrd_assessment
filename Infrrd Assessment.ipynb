{
 "cells": [
  {
   "cell_type": "markdown",
   "metadata": {},
   "source": [
    "# Infrrd Assessment"
   ]
  },
  {
   "cell_type": "markdown",
   "metadata": {},
   "source": [
    "Here, I will be looking at the stock market closing prices of Google over the course of 1 year, using data from the Yahoo Finance API."
   ]
  },
  {
   "cell_type": "code",
   "execution_count": 230,
   "metadata": {},
   "outputs": [],
   "source": [
    "import matplotlib.pyplot as plt\n",
    "import pandas as pd\n",
    "from datetime import datetime\n",
    "from datetime import date\n",
    "import json\n",
    "import http.client"
   ]
  },
  {
   "cell_type": "markdown",
   "metadata": {},
   "source": [
    "# Connecting to Yahoo Finance API at the endpoint get_histories"
   ]
  },
  {
   "cell_type": "code",
   "execution_count": 200,
   "metadata": {},
   "outputs": [],
   "source": [
    "conn = http.client.HTTPSConnection(\"apidojo-yahoo-finance-v1.p.rapidapi.com\")\n",
    "headers = {\n",
    "    'x-rapidapi-key': \"c9eaaa2d7amsh3a220ea12ae563bp19ff1bjsnfe40e890a0d7\",\n",
    "    'x-rapidapi-host': \"apidojo-yahoo-finance-v1.p.rapidapi.com\"\n",
    "}"
   ]
  },
  {
   "cell_type": "markdown",
   "metadata": {},
   "source": [
    "Values sent in request:\n",
    "\n",
    "Starting timestamp (From): 1576631905 -- 12/18/2019 at 1:18:25 AM GMT\n",
    "Ending timestamp (To): 1608254305 -- 12/18/2020 at 1:18:25 AM GMT\n",
    "\n",
    "Interval: 5 days ('1 week' was not a possible option for the interval value, so 5 days was the closest)"
   ]
  },
  {
   "cell_type": "code",
   "execution_count": 175,
   "metadata": {},
   "outputs": [],
   "source": [
    "conn.request(\"GET\", \"/stock/get-histories?symbol=GOOGL%20&from=1576631905&to=1608254305&events=div&interval=5d&region=US\", headers=headers)"
   ]
  },
  {
   "cell_type": "code",
   "execution_count": 176,
   "metadata": {},
   "outputs": [],
   "source": [
    "res = conn.getresponse()\n",
    "data = res.read()"
   ]
  },
  {
   "cell_type": "code",
   "execution_count": 216,
   "metadata": {},
   "outputs": [],
   "source": [
    "data_str = data.decode(\"utf-8\")\n",
    "data_str_as_dictionary = json.loads(data_str)\n",
    "timestamps = data_str_as_dictionary['chart']['result'][0]['timestamp']\n",
    "actual_dates = [date.fromtimestamp(ts) for ts in timestamps]\n",
    "closing_prices = data_str_as_dictionary['chart']['result'][0]['indicators']['quote'][0]['close']"
   ]
  },
  {
   "cell_type": "markdown",
   "metadata": {},
   "source": [
    "From the data, I will be collecting the dates (\"actual_dates\") and the closing prices (\"closing_prices\") on each of those dates. The dictionary I create will have the date as the key with the respective closing price as the value."
   ]
  },
  {
   "cell_type": "markdown",
   "metadata": {},
   "source": [
    "# Initial Data View"
   ]
  },
  {
   "cell_type": "code",
   "execution_count": 201,
   "metadata": {},
   "outputs": [],
   "source": [
    "date_with_price = {}\n",
    "for i in range(len(actual_dates)):\n",
    "    date_with_price[actual_dates[i]] = closing_prices[i]"
   ]
  },
  {
   "cell_type": "code",
   "execution_count": 202,
   "metadata": {},
   "outputs": [
    {
     "data": {
      "text/plain": [
       "<matplotlib.collections.PathCollection at 0x1a6df158d60>"
      ]
     },
     "execution_count": 202,
     "metadata": {},
     "output_type": "execute_result"
    },
    {
     "data": {
      "image/png": "[encoded data removed]",
      "text/plain": [
       "<Figure size 432x288 with 1 Axes>"
      ]
     },
     "metadata": {
      "needs_background": "light"
     },
     "output_type": "display_data"
    }
   ],
   "source": [
    "plt.scatter(date_with_price.keys(),date_with_price.values())"
   ]
  },
  {
   "cell_type": "code",
   "execution_count": 210,
   "metadata": {},
   "outputs": [
    {
     "name": "stdout",
     "output_type": "stream",
     "text": [
      "The max stock closing price was the week of 2020-12-02, with value 1824.969970703125\n",
      "The min stock closing price was the week of 2020-04-01, with value 1102.0999755859375\n"
     ]
    }
   ],
   "source": [
    "date_of_max = max(date_with_price, key=date_with_price.get)\n",
    "max_price = date_with_price[date_of_max]\n",
    "print(\"The max stock closing price was the week of \" + str(date_of_max) + \", with value \" + str(max_price))\n",
    "\n",
    "date_of_min = min(date_with_price, key=date_with_price.get)\n",
    "min_price = date_with_price[date_of_min]\n",
    "print(\"The min stock closing price was the week of \" + str(date_of_min) + \", with value \" + str(min_price))"
   ]
  },
  {
   "cell_type": "markdown",
   "metadata": {},
   "source": [
    "Just from first glance, the closing prices generally seem to be generally increasing over time. This can be seen by the fact that stock prices have generally increased throughout the year, and because the max price was at the end of the year in December. Unexpectedly, the min price was not at the beginning of the year in January. This discrepancy will be covered in the section below. "
   ]
  },
  {
   "cell_type": "markdown",
   "metadata": {},
   "source": [
    "# Data filtering"
   ]
  },
  {
   "cell_type": "markdown",
   "metadata": {},
   "source": [
    "There is one major dip in the graph above: between the months of February and June. This change happened because this is when the coronavirus pandemic first became widespread in the US. This is also the reason why the minimum stock closing price was in April, rather than at the beginning of the year in January. \n",
    "\n",
    "Since the coronavirus pandemic is an unprecedented incident (and hopefully there won't be any new pandemics in future years), it would be wise to remove the prices between February and June from our data, in case we want to use the data from 2020 to predict trends in future years. "
   ]
  },
  {
   "cell_type": "code",
   "execution_count": 211,
   "metadata": {},
   "outputs": [
    {
     "data": {
      "text/plain": [
       "<matplotlib.collections.PathCollection at 0x1a6e027af70>"
      ]
     },
     "execution_count": 211,
     "metadata": {},
     "output_type": "execute_result"
    },
    {
     "data": {
      "image/png": "[encoded data removed]",
      "text/plain": [
       "<Figure size 432x288 with 1 Axes>"
      ]
     },
     "metadata": {
      "needs_background": "light"
     },
     "output_type": "display_data"
    }
   ],
   "source": [
    "date_with_price_feb_to_june_removed = {}\n",
    "start_date_remove = date(2020, 2, 11)\n",
    "end_date_remove = date(2020, 7, 1)\n",
    "for d in date_with_price:\n",
    "    if d <= start_date_remove or d >= end_date_remove:\n",
    "        date_with_price_feb_to_june_removed[d] = date_with_price[d]\n",
    "plt.scatter(date_with_price_feb_to_june_removed.keys(),date_with_price_feb_to_june_removed.values())"
   ]
  },
  {
   "cell_type": "markdown",
   "metadata": {},
   "source": [
    "To get rid of the gap in the middle of the graph:"
   ]
  },
  {
   "cell_type": "code",
   "execution_count": 213,
   "metadata": {},
   "outputs": [
    {
     "data": {
      "text/plain": [
       "<matplotlib.collections.PathCollection at 0x1a6e031fa60>"
      ]
     },
     "execution_count": 213,
     "metadata": {},
     "output_type": "execute_result"
    },
    {
     "data": {
      "image/png": "[encoded data removed]",
      "text/plain": [
       "<Figure size 432x288 with 1 Axes>"
      ]
     },
     "metadata": {
      "needs_background": "light"
     },
     "output_type": "display_data"
    }
   ],
   "source": [
    "weeks_index = [i for i in range(len(date_with_price_feb_to_june_removed.keys()))]\n",
    "plt.scatter(weeks_index,date_with_price_feb_to_june_removed.values())"
   ]
  },
  {
   "cell_type": "code",
   "execution_count": 214,
   "metadata": {},
   "outputs": [
    {
     "name": "stdout",
     "output_type": "stream",
     "text": [
      "The max stock closing price was the week of 2020-12-02, with value 1824.969970703125\n",
      "The min stock closing price was the week of 2019-12-23, with value 1350.6300048828125\n"
     ]
    }
   ],
   "source": [
    "date_of_max = max(date_with_price_feb_to_june_removed, key=date_with_price_feb_to_june_removed.get)\n",
    "max_price = date_with_price_feb_to_june_removed[date_of_max]\n",
    "print(\"The max stock closing price was the week of \" + str(date_of_max) + \", with value \" + str(max_price))\n",
    "\n",
    "date_of_min = min(date_with_price_feb_to_june_removed, key=date_with_price_feb_to_june_removed.get)\n",
    "min_price = date_with_price_feb_to_june_removed[date_of_min]\n",
    "print(\"The min stock closing price was the week of \" + str(date_of_min) + \", with value \" + str(min_price))"
   ]
  },
  {
   "cell_type": "markdown",
   "metadata": {},
   "source": [
    "Now, the graph is much more indicative of the positive trend that will happen in other years when there is no coronavirus pandemic. As we see above, the max stock price was at the end of the year in December 2020, and the min stock price was at the end of last year in December 2019. Overall, this more clearly shows the trend of stock prices increasing over time. "
   ]
  },
  {
   "cell_type": "markdown",
   "metadata": {},
   "source": [
    "# Categorizing Data"
   ]
  },
  {
   "cell_type": "code",
   "execution_count": 217,
   "metadata": {},
   "outputs": [
    {
     "data": {
      "text/plain": [
       "<BarContainer object of 31 artists>"
      ]
     },
     "execution_count": 217,
     "metadata": {},
     "output_type": "execute_result"
    },
    {
     "data": {
      "image/png": "[encoded data removed]",
      "text/plain": [
       "<Figure size 432x288 with 1 Axes>"
      ]
     },
     "metadata": {
      "needs_background": "light"
     },
     "output_type": "display_data"
    }
   ],
   "source": [
    "grouping_prices = {}\n",
    "for price in date_with_price_feb_to_june_removed.values():\n",
    "    price_rounded = int(price)\n",
    "    if price_rounded in grouping_prices:\n",
    "        grouping_prices[price_rounded] += 1\n",
    "    else:\n",
    "        grouping_prices[price_rounded] = 1\n",
    "plt.bar(grouping_prices.keys(), grouping_prices.values())"
   ]
  },
  {
   "cell_type": "markdown",
   "metadata": {},
   "source": [
    "All the possible stock prices have occurences of either 0, 1, or 2. To be quite honest, even though I was assigned to make the bar graph above, it isn't that interesting. This is primarily because the stock prices is quantitative data, while bar graphs are better for showing categorical data. "
   ]
  },
  {
   "cell_type": "markdown",
   "metadata": {},
   "source": [
    "One feature that instead would be more interesting to see is that, at a certain date, whether the stock price is increasing or decreasing. In other words, at a certain week has the stock price increased from the previous week or decreased from the previous week? This is a categorical feature, so this feature would be more appropriate for a bar graph. "
   ]
  },
  {
   "cell_type": "markdown",
   "metadata": {},
   "source": [
    "First, for all months: "
   ]
  },
  {
   "cell_type": "code",
   "execution_count": 226,
   "metadata": {},
   "outputs": [
    {
     "data": {
      "text/plain": [
       "<BarContainer object of 3 artists>"
      ]
     },
     "execution_count": 226,
     "metadata": {},
     "output_type": "execute_result"
    },
    {
     "data": {
      "image/png": "[encoded data removed]",
      "text/plain": [
       "<Figure size 432x288 with 1 Axes>"
      ]
     },
     "metadata": {
      "needs_background": "light"
     },
     "output_type": "display_data"
    }
   ],
   "source": [
    "i_or_d = {\"increase\": 0, \"decrease\": 0, \"stayed_same\": 0}\n",
    "previous_stock_price = list(date_with_price.values())[0]\n",
    "first_date_removed = list(date_with_price.values())[1:]\n",
    "\n",
    "for d in first_date_removed:\n",
    "    if d < previous_stock_price:\n",
    "        i_or_d[\"decrease\"] += 1\n",
    "    elif d > previous_stock_price:\n",
    "        i_or_d[\"increase\"] += 1\n",
    "    else:\n",
    "        i_or_d[\"stayed_same\"] += 1\n",
    "plt.bar(i_or_d.keys(), i_or_d.values())"
   ]
  },
  {
   "cell_type": "markdown",
   "metadata": {},
   "source": [
    "Next, for the prices WITH February to June removed: "
   ]
  },
  {
   "cell_type": "code",
   "execution_count": 227,
   "metadata": {},
   "outputs": [
    {
     "data": {
      "text/plain": [
       "<BarContainer object of 3 artists>"
      ]
     },
     "execution_count": 227,
     "metadata": {},
     "output_type": "execute_result"
    },
    {
     "data": {
      "image/png": "[encoded data removed]",
      "text/plain": [
       "<Figure size 432x288 with 1 Axes>"
      ]
     },
     "metadata": {
      "needs_background": "light"
     },
     "output_type": "display_data"
    }
   ],
   "source": [
    "i_or_d = {\"increase\": 0, \"decrease\": 0, \"stayed_same\": 0}\n",
    "previous_stock_price = list(date_with_price_feb_to_june_removed.values())[0]\n",
    "first_date_removed = list(date_with_price_feb_to_june_removed.values())[1:]\n",
    "\n",
    "for d in first_date_removed:\n",
    "    if d < previous_stock_price:\n",
    "        i_or_d[\"decrease\"] += 1\n",
    "    elif d > previous_stock_price:\n",
    "        i_or_d[\"increase\"] += 1\n",
    "    else:\n",
    "        i_or_d[\"stayed_same\"] += 1\n",
    "plt.bar(i_or_d.keys(), i_or_d.values())"
   ]
  },
  {
   "cell_type": "markdown",
   "metadata": {},
   "source": [
    "In both graphs, you can see the stock price during any one certain week is more likely to have increased from the previous week. \n",
    "\n",
    "As you can see from the differences between the first and second graph, neglecting the effects that the pandemic had on the stock market between February and June (the second graph) results in an even greater chance of increasing prices. "
   ]
  },
  {
   "cell_type": "markdown",
   "metadata": {},
   "source": [
    "# Observations "
   ]
  },
  {
   "cell_type": "markdown",
   "metadata": {},
   "source": [
    "Overall, we can see that the stock market closing prices of Google increases as time progresses. Apart from the one dip between February and June (which happened due to the coronavirus pandemic), there is a positive trend between time and stock prices. As a result, it would be worth it to buy stocks now since the closing price for Google stocks will keep increasing throughout the future. In regards to other information needed to answer that question, I can train a machine learning model to better predict stock prices in the future. I will cover that in the section below.   "
   ]
  },
  {
   "cell_type": "markdown",
   "metadata": {},
   "source": [
    "# Future Steps"
   ]
  },
  {
   "cell_type": "markdown",
   "metadata": {},
   "source": [
    "As a software engineer, I am personally very interested in machine learning. As a result, I am really interested in seeing how this data from 2020 can be used to predict the stock prices for Google in future years. Since there seems to be a positive linear relationship between time and stock prices, I can train a linear regression model. \n",
    "\n",
    "In order to make the model more reliable, one strategy that I can use is data cleaning. I already did some feature above by removing the data between February and June. This is because the data during these months are affected by the start of the pandemic, and thus this trend is unlikely to be replicated in future years (hopefully).\n",
    "\n",
    "Another strategy to make the model more reliable and accurate would be feature selection. So far, the only input feature I have used is time. Through further steps, I can use feature selection in order to find other factors and measure how much they impact the output value (the stock price). Through adding and selecting input features, I can make the model more accurate. "
   ]
  },
  {
   "cell_type": "code",
   "execution_count": null,
   "metadata": {},
   "outputs": [],
   "source": []
  }
 ],
 "metadata": {
  "kernelspec": {
   "display_name": "Python 3",
   "language": "python",
   "name": "python3"
  },
  "language_info": {
   "codemirror_mode": {
    "name": "ipython",
    "version": 3
   },
   "file_extension": ".py",
   "mimetype": "text/x-python",
   "name": "python",
   "nbconvert_exporter": "python",
   "pygments_lexer": "ipython3",
   "version": "3.8.3"
  }
 },
 "nbformat": 4,
 "nbformat_minor": 4
}
